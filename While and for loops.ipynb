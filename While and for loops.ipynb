{
 "cells": [
  {
   "cell_type": "markdown",
   "id": "89476ca9-0bbb-40db-af03-83c9fc511abf",
   "metadata": {},
   "source": [
    "# "
   ]
  },
  {
   "cell_type": "code",
   "execution_count": null,
   "id": "532856e0-5700-4992-818e-b46b64386178",
   "metadata": {},
   "outputs": [],
   "source": [
    "What You're Aiming For\n",
    "\n",
    "Create a program that allows the user to manage their shopping list. The user should be able to add items to the list, remove items, and view the current list of items.\n",
    "\n",
    "\n",
    "Instructions\n",
    "\n",
    "Statement:\n",
    "\n",
    "Create a list to store the shopping items\n",
    "Use a while loop to create a menu of options for the user to add, remove, or view items from the list\n",
    "Use a for loop to iterate through the list of items and display them to the user\n",
    "Use the range() function to limit the number of items that can be added to the list\n",
    "Use the list, tuple, set, and dictionary data structures to store and manipulate the shopping items\n",
    "Instructions:\n",
    "\n",
    "\n",
    "Instructions\n",
    "Create a list named 'shopping_list' to store the items.\n",
    "Use a while loop to create a menu of options for the user to add, remove, or view items from the list.\n",
    "Use the input() function to prompt the user to make a selection from the menu.\n",
    "Use an if-elif-else block to determine the user's selection and perform the corresponding action.\n",
    "If the user selects 'add', use the input() function to prompt the user to enter an item to add to the list. Use the range() function to limit the number of items that can be added to the list.\n",
    "If the user selects 'remove', use the input() function to prompt the user to enter an item to remove from the list.\n",
    "If the user selects 'view', use a for loop to iterate through the list of items and display them to the user.\n",
    "Use the list, tuple, set, and dictionary data structures to store and manipulate the shopping items."
   ]
  },
  {
   "cell_type": "code",
   "execution_count": null,
   "id": "5cee70e3-a39d-436a-8b28-4c3ab32c357f",
   "metadata": {
    "scrolled": true
   },
   "outputs": [
    {
     "name": "stdout",
     "output_type": "stream",
     "text": [
      "What do you intend to do?:\n",
      "Add Item\n",
      "Remove Item\n",
      "View List\n",
      "Exit\n"
     ]
    },
    {
     "name": "stdin",
     "output_type": "stream",
     "text": [
      "Enter your choice (Add Item, Remove Item, View List, Exit): Add Item\n",
      "Enter your desired item:  bread,fish,pen\n"
     ]
    },
    {
     "name": "stdout",
     "output_type": "stream",
     "text": [
      "What do you intend to do?:\n",
      "Add Item\n",
      "Remove Item\n",
      "View List\n",
      "Exit\n"
     ]
    },
    {
     "name": "stdin",
     "output_type": "stream",
     "text": [
      "Enter your choice (Add Item, Remove Item, View List, Exit): Remove fish\n"
     ]
    },
    {
     "name": "stdout",
     "output_type": "stream",
     "text": [
      "Invalid choice! please select the right option. \n",
      "What do you intend to do?:\n",
      "Add Item\n",
      "Remove Item\n",
      "View List\n",
      "Exit\n"
     ]
    },
    {
     "name": "stdin",
     "output_type": "stream",
     "text": [
      "Enter your choice (Add Item, Remove Item, View List, Exit): Remove Fish\n"
     ]
    },
    {
     "name": "stdout",
     "output_type": "stream",
     "text": [
      "Invalid choice! please select the right option. \n",
      "What do you intend to do?:\n",
      "Add Item\n",
      "Remove Item\n",
      "View List\n",
      "Exit\n"
     ]
    },
    {
     "name": "stdin",
     "output_type": "stream",
     "text": [
      "Enter your choice (Add Item, Remove Item, View List, Exit): Remove Item\n",
      "Enter an item to remove:  fish\n"
     ]
    },
    {
     "name": "stdout",
     "output_type": "stream",
     "text": [
      "removed from the list.\n",
      "What do you intend to do?:\n",
      "Add Item\n",
      "Remove Item\n",
      "View List\n",
      "Exit\n"
     ]
    },
    {
     "name": "stdin",
     "output_type": "stream",
     "text": [
      "Enter your choice (Add Item, Remove Item, View List, Exit): View List\n"
     ]
    },
    {
     "name": "stdout",
     "output_type": "stream",
     "text": [
      "items in the list:\n",
      "bread,fish,pen\n",
      "What do you intend to do?:\n",
      "Add Item\n",
      "Remove Item\n",
      "View List\n",
      "Exit\n"
     ]
    },
    {
     "name": "stdin",
     "output_type": "stream",
     "text": [
      "Enter your choice (Add Item, Remove Item, View List, Exit): View List\n"
     ]
    },
    {
     "name": "stdout",
     "output_type": "stream",
     "text": [
      "items in the list:\n",
      "bread,fish,pen\n",
      "What do you intend to do?:\n",
      "Add Item\n",
      "Remove Item\n",
      "View List\n",
      "Exit\n"
     ]
    }
   ],
   "source": [
    "#creating a shopping list program\n",
    "shopping_list = [\"\"]\n",
    "while True:\n",
    "    print(\"What do you intend to do?:\")\n",
    "    print(\"Add Item\")\n",
    "    print(\"Remove Item\")\n",
    "    print(\"View List\")\n",
    "    print(\"Exit\")\n",
    "    \n",
    "    choice = input(\"Enter your choice (Add Item, Remove Item, View List, Exit):\")\n",
    "\n",
    "    if choice == \"Add Item\":\n",
    "        Item = input(\"Enter your desired item: \")\n",
    "        shopping_list.append(Item)\n",
    "    elif choice == \"Remove Item\":\n",
    "        Item = input(\"Enter an item to remove: \")\n",
    "        if item in shopping_list:\n",
    "            shopping_list.remove(item)\n",
    "            print(f\"{item}removed from the list.\")\n",
    "        else:\n",
    "            print(f\"{item} not found in the list.\")\n",
    "    elif choice == \"View List\":\n",
    "        print(\"items in the list:\")\n",
    "        for item in shopping_list:\n",
    "            print(item)\n",
    "    elif choice == \"Exit\":\n",
    "        print(\"Thank You!\")\n",
    "        break\n",
    "    else:\n",
    "        print(\"Invalid choice! please select the right option. \")\n",
    "def view_list(shopping_list):\n",
    "    print(\"items in the list:\")\n",
    "    for item in shopping_list:\n",
    "        print(item)"
   ]
  },
  {
   "cell_type": "code",
   "execution_count": null,
   "id": "ec023443-5839-4952-b28b-701185d46794",
   "metadata": {},
   "outputs": [],
   "source": []
  },
  {
   "cell_type": "code",
   "execution_count": null,
   "id": "e15d9740-ae2f-47c3-8b4b-821b013f6938",
   "metadata": {},
   "outputs": [],
   "source": []
  },
  {
   "cell_type": "code",
   "execution_count": null,
   "id": "e40baa63-f1b3-4f0f-86c9-499dd3f33ca6",
   "metadata": {},
   "outputs": [],
   "source": []
  },
  {
   "cell_type": "code",
   "execution_count": null,
   "id": "49f606de-0f1d-4a1e-a1b3-4cf23af90337",
   "metadata": {},
   "outputs": [],
   "source": []
  },
  {
   "cell_type": "code",
   "execution_count": null,
   "id": "9b76d1ed-3782-47a3-ab58-7b25c699cd0f",
   "metadata": {},
   "outputs": [],
   "source": []
  },
  {
   "cell_type": "code",
   "execution_count": null,
   "id": "4cbc902f-0765-474f-a655-919d40fa6418",
   "metadata": {},
   "outputs": [],
   "source": []
  },
  {
   "cell_type": "code",
   "execution_count": null,
   "id": "081f7a87-341f-4fbe-9a47-46605726f0b2",
   "metadata": {},
   "outputs": [],
   "source": []
  }
 ],
 "metadata": {
  "kernelspec": {
   "display_name": "Python 3 (ipykernel)",
   "language": "python",
   "name": "python3"
  },
  "language_info": {
   "codemirror_mode": {
    "name": "ipython",
    "version": 3
   },
   "file_extension": ".py",
   "mimetype": "text/x-python",
   "name": "python",
   "nbconvert_exporter": "python",
   "pygments_lexer": "ipython3",
   "version": "3.11.7"
  }
 },
 "nbformat": 4,
 "nbformat_minor": 5
}
