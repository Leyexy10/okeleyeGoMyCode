{
 "cells": [
  {
   "cell_type": "code",
   "execution_count": null,
   "id": "44d1811f-bed3-4d85-9681-8b32c0be06be",
   "metadata": {},
   "outputs": [],
   "source": [
    "What You're Aiming For\n",
    "\n",
    "Create a numpy array called \"grades\" that contains the following grades: [85, 90, 88, 92, 95, 80, 75, 98, 89, 83]\n",
    "\n",
    "\n",
    "Instructions\n",
    "\n",
    "Create a new file called \"grades_analysis.py\"\n",
    "Import the numpy library and create the \"grades\" array as specified above.\n",
    "Use numpy functions to calculate the mean, median, and standard deviation of the grades.\n",
    "Use numpy function to find the maximum and minimum of the grades.\n",
    "Use numpy function to sort the grades in ascending order.\n",
    "Use numpy function to find the index of the highest grade in the array.\n",
    "Use numpy function to count the number of students who scored above 90.\n",
    "Use numpy function to calculate the percentage of students who scored above 90.\n",
    "Use numpy function to calculate the percentage of students who scored below 75.\n",
    "Use numpy function to extract all the grades above 90 and put them in a new array called \"high_performers\".\n",
    "Create a new array called \"passing_grades\" that contains all the grades above 75.\n",
    "Print the result of all the above steps.\n",
    "Note:\n",
    "\n",
    "to calculate percentage use numpy.mean(grades > 90) * 100\n",
    "to extract the grades above 90 use grades[grades > 90]\n",
    "to extract the grades above 75 use grades[grades > 75]\n",
    "You can use other numpy functions as well to analyze the data as you want. The above steps are just examples of what can be done."
   ]
  },
  {
   "cell_type": "code",
   "execution_count": 3,
   "id": "1d2d5750-2dee-44e4-aac0-bfa7f863a96b",
   "metadata": {},
   "outputs": [
    {
     "name": "stdout",
     "output_type": "stream",
     "text": [
      "mean: 87.5\n",
      "median: 88.5\n",
      "standard deviation: 6.591661399070799\n",
      "maximum grades: 98\n",
      "minimum grades: 75\n",
      "sort grades: [75 80 83 85 88 89 90 92 95 98]\n",
      "maximum index grades: 7\n",
      "above 90 count grades: 3\n",
      "percentage of students above 90: 4.70%\n",
      "percentage of students who scored below 75: 0.0%\n",
      "[92 95 98]\n",
      "[85 90 88 92 95 80 98 89 83]\n"
     ]
    }
   ],
   "source": [
    "import numpy as np\n",
    "\n",
    "grades = np.array([85, 90, 88, 92, 95, 80, 75, 98, 89, 83])\n",
    "\n",
    "mean = np.mean(grades)\n",
    "median = np.median(grades)\n",
    "std_dev = np.std(grades)\n",
    "max_grades = np.max(grades)\n",
    "min_grades = np.min(grades)\n",
    "sor_grades = np.sort(grades)\n",
    "max_index = np.argmax(grades)\n",
    "above_90_count = np.count_nonzero(grades > 90)\n",
    "perc_above_90 = np.percentile(grades, 90)\n",
    "perc_below_75 = np.sum(grades < 75)/ len(grades) * 100\n",
    "high_performers = grades[grades > 90]\n",
    "passing_grades = grades[grades > 75]\n",
    "\n",
    "print(\"mean:\", mean)\n",
    "print(\"median:\", median)\n",
    "print(\"standard deviation:\", std_dev)\n",
    "print(\"maximum grades:\", max_grades)\n",
    "print(\"minimum grades:\", min_grades)\n",
    "print(\"sort grades:\", sor_grades)\n",
    "print(\"maximum index grades:\", max_index)\n",
    "print(\"above 90 count grades:\", above_90_count)\n",
    "print(f\"percentage of students above 90: {100 - perc_above_90:.2f}%\")\n",
    "print(f\"percentage of students who scored below 75: {perc_below_75}%\")\n",
    "print(high_performers)\n",
    "print(passing_grades)"
   ]
  },
  {
   "cell_type": "code",
   "execution_count": null,
   "id": "6267e9c3-f990-409b-a121-70222e98c683",
   "metadata": {},
   "outputs": [],
   "source": []
  },
  {
   "cell_type": "code",
   "execution_count": null,
   "id": "e8072f4c-d303-47ec-b0d1-9690b8c28e7b",
   "metadata": {},
   "outputs": [],
   "source": []
  }
 ],
 "metadata": {
  "kernelspec": {
   "display_name": "Python 3 (ipykernel)",
   "language": "python",
   "name": "python3"
  },
  "language_info": {
   "codemirror_mode": {
    "name": "ipython",
    "version": 3
   },
   "file_extension": ".py",
   "mimetype": "text/x-python",
   "name": "python",
   "nbconvert_exporter": "python",
   "pygments_lexer": "ipython3",
   "version": "3.11.7"
  }
 },
 "nbformat": 4,
 "nbformat_minor": 5
}
