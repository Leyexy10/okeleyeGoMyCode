{
 "cells": [
  {
   "cell_type": "code",
   "execution_count": 22,
   "id": "f963f1f9-f502-4702-8958-e02be21219b6",
   "metadata": {},
   "outputs": [
    {
     "name": "stdout",
     "output_type": "stream",
     "text": [
      "Welcome to python pizza deliveries!\n"
     ]
    },
    {
     "name": "stdin",
     "output_type": "stream",
     "text": [
      "What size of pizza are you ordering for? :S, M, L? l\n",
      "Do you want pepperoni? :Yes or NO?  y\n",
      "Do you want extra cheese? :Yes or No n\n"
     ]
    },
    {
     "name": "stdout",
     "output_type": "stream",
     "text": [
      "your final bill is: $28\n"
     ]
    }
   ],
   "source": [
    "###creating python pizza delivery\n",
    "print(\"Welcome to python pizza deliveries!\")\n",
    "pizza_size = input(\"What size of pizza are you ordering for? :S, M, L?\").upper\n",
    "add_pepperoni = input(\"Do you want pepperoni? :Yes or NO? \").upper\n",
    "add_cheese = input(\"Do you want extra cheese? :Yes or No\").upper\n",
    "\n",
    "base_price = 28\n",
    "if pizza_size == \"S\":\n",
    "    base_price = 15\n",
    "elif pizza_size == \"M\":\n",
    "    base_price = 20\n",
    "elif pizza_size == \"L\":\n",
    "    base_price = 25\n",
    "if add_pepperoni == \"Yes\":\n",
    "    if pizza_size == \"S\":\n",
    "        base_price += 2\n",
    "    else:\n",
    "        base_price += 3\n",
    "if add_cheese == \"Yes\":\n",
    "    base_price += 1\n",
    "\n",
    "print(f\"your final bill is: ${base_price}\")"
   ]
  }
 ],
 "metadata": {
  "kernelspec": {
   "display_name": "Python 3 (ipykernel)",
   "language": "python",
   "name": "python3"
  },
  "language_info": {
   "codemirror_mode": {
    "name": "ipython",
    "version": 3
   },
   "file_extension": ".py",
   "mimetype": "text/x-python",
   "name": "python",
   "nbconvert_exporter": "python",
   "pygments_lexer": "ipython3",
   "version": "3.11.7"
  }
 },
 "nbformat": 4,
 "nbformat_minor": 5
}
