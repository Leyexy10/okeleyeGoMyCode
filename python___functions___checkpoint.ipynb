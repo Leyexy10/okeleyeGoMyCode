{
 "cells": [
  {
   "cell_type": "code",
   "execution_count": null,
   "id": "8290cf75-0a60-450c-a97f-ebdb383e8cf9",
   "metadata": {},
   "outputs": [
    {
     "name": "stdin",
     "output_type": "stream",
     "text": [
      "Type in the first num:  6\n"
     ]
    },
    {
     "name": "stdout",
     "output_type": "stream",
     "text": [
      "list of operations\n",
      "+ - * / "
     ]
    },
    {
     "name": "stdin",
     "output_type": "stream",
     "text": [
      "choose a symbol [ +, -, *, /:  -\n",
      "Type in the second num:  4\n"
     ]
    },
    {
     "name": "stdout",
     "output_type": "stream",
     "text": [
      "6 - 4 = 2\n"
     ]
    },
    {
     "name": "stdin",
     "output_type": "stream",
     "text": [
      "would you like to continue with the result, yes/no:  yes\n",
      "choose a symbol [ +, -, *, /:  *\n",
      "Type in the second num:  3\n"
     ]
    },
    {
     "name": "stdout",
     "output_type": "stream",
     "text": [
      "2 * 3 = 6\n"
     ]
    },
    {
     "name": "stdin",
     "output_type": "stream",
     "text": [
      "would you like to continue with the result, yes/no:  no\n"
     ]
    },
    {
     "name": "stdout",
     "output_type": "stream",
     "text": [
      "invalid operation symbol. please choose from +, -, *, /.: \n"
     ]
    }
   ],
   "source": [
    "def addition(a,b):\n",
    "    return a+b\n",
    "def subtraction(a,b):\n",
    "    return a-b\n",
    "def multiplication(a,b):\n",
    "    return a*b\n",
    "def division(a,b):\n",
    "    return a/b\n",
    "\n",
    "calculator_operations = {'+': addition, '-': subtraction, '*': multiplication, '/': division}\n",
    "\n",
    "def calculator():\n",
    "    first_num = int(input(\"Type in the first num: \"))\n",
    "    print(\"list of operations\")\n",
    "    for operation in calculator_operations:\n",
    "        print(operation, end = \" \")\n",
    "    should_continue = True\n",
    "    while should_continue:\n",
    "        operation_symbols = input(\"choose a symbol [ +, -, *, /: \")\n",
    "        second_num = int(input(\"Type in the second num: \")) \n",
    "        calculation_function = calculator_operations.get(operation_symbols)\n",
    "        if calculation_function:\n",
    "            answer = calculation_function(first_num, second_num)\n",
    "            print(f\"{first_num} {operation_symbols} {second_num} = {answer}\")\n",
    "            \n",
    "            choice = input(\"would you like to continue with the result, yes/no: \") \n",
    "            if choice.lower() == \"yes\":\n",
    "                    first_num = answer\n",
    "            else:\n",
    "                print(\"invalid operation symbol. please choose from +, -, *, /.: \")\n",
    "calculator()            "
   ]
  }
 ],
 "metadata": {
  "kernelspec": {
   "display_name": "Python 3 (ipykernel)",
   "language": "python",
   "name": "python3"
  },
  "language_info": {
   "codemirror_mode": {
    "name": "ipython",
    "version": 3
   },
   "file_extension": ".py",
   "mimetype": "text/x-python",
   "name": "python",
   "nbconvert_exporter": "python",
   "pygments_lexer": "ipython3",
   "version": "3.11.7"
  }
 },
 "nbformat": 4,
 "nbformat_minor": 5
}
