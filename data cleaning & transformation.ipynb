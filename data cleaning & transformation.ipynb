{
 "cells": [
  {
   "cell_type": "code",
   "execution_count": null,
   "id": "2abad3d4-2624-4b74-acd5-0798993b40fd",
   "metadata": {},
   "outputs": [],
   "source": [
    "What You're Aiming For\n",
    "\n",
    "In this exercise, you will work with a dataset called \"employee info\" that contains information about employees in a company. The dataset includes columns such as Name, Department, Age, Gender, Salary, and Experience.\n",
    "\n",
    "\n",
    "Instructions\n",
    "\n",
    "Create a dataframe called \"employee_df\" with the following data:\n",
    "\n",
    "import pandas as pd\n",
    "\n",
    "data = {'Name': ['John', 'Mary', 'Bob', 'Sarah', 'Tom', 'Lisa'], 'Department': ['IT', 'Marketing', 'Sales', 'IT', 'Finance', 'Marketing'], 'Age': [30, 40, 25, 35, 45, 28], 'Gender': ['Male', 'Female', 'Male', 'Female', 'Male', 'Female'], 'Salary': [50000, 60000, 45000, 55000, 70000, 55000], 'Experience': [3, 7, 2, 5, 10, 4]}\n",
    "\n",
    " employee_df = pd.DataFrame(data)\n",
    "\n",
    " \n",
    "\n",
    "Use the iloc method to select the first 3 rows of the dataframe.\n",
    "Use the loc method to select all rows where the Department is \"Marketing\".\n",
    "Use the iloc method to select the Age and Gender columns for the first 4 rows of the dataframe.\n",
    "Use the loc method to select the Salary and Experience columns for all rows where the Gender is \"Male\".\n",
    "Note:\n",
    "\n",
    "iloc is used for selection by index location\n",
    "loc is used for selection by label.\n"
   ]
  },
  {
   "cell_type": "code",
   "execution_count": 29,
   "id": "0acaa70d-1909-4234-858f-8d2525d1b0d2",
   "metadata": {},
   "outputs": [
    {
     "data": {
      "text/html": [
       "<div>\n",
       "<style scoped>\n",
       "    .dataframe tbody tr th:only-of-type {\n",
       "        vertical-align: middle;\n",
       "    }\n",
       "\n",
       "    .dataframe tbody tr th {\n",
       "        vertical-align: top;\n",
       "    }\n",
       "\n",
       "    .dataframe thead th {\n",
       "        text-align: right;\n",
       "    }\n",
       "</style>\n",
       "<table border=\"1\" class=\"dataframe\">\n",
       "  <thead>\n",
       "    <tr style=\"text-align: right;\">\n",
       "      <th></th>\n",
       "      <th>Salary</th>\n",
       "      <th>Experience</th>\n",
       "    </tr>\n",
       "  </thead>\n",
       "  <tbody>\n",
       "    <tr>\n",
       "      <th>0</th>\n",
       "      <td>50000</td>\n",
       "      <td>3</td>\n",
       "    </tr>\n",
       "    <tr>\n",
       "      <th>2</th>\n",
       "      <td>45000</td>\n",
       "      <td>2</td>\n",
       "    </tr>\n",
       "    <tr>\n",
       "      <th>4</th>\n",
       "      <td>70000</td>\n",
       "      <td>10</td>\n",
       "    </tr>\n",
       "  </tbody>\n",
       "</table>\n",
       "</div>"
      ],
      "text/plain": [
       "   Salary  Experience\n",
       "0   50000           3\n",
       "2   45000           2\n",
       "4   70000          10"
      ]
     },
     "execution_count": 29,
     "metadata": {},
     "output_type": "execute_result"
    }
   ],
   "source": [
    "import pandas as pd\n",
    "Data = {'Name':['John','Mary','Bob','Sarah','Tom','Lisa'], 'Department': ['IT','Marketing','Sales','IT','Finance','Marketing'], 'Age': [30,40,25,35,45,28], 'Gender': ['Male','Female','Male','Female','Male','Female'], 'Salary': [50000,60000,45000,55000,70000,55000], 'Experience': [3,7,2,5,10,4]}\n",
    "employee_df = pd.DataFrame(Data)\n",
    "employee_df.iloc[0:3]\n",
    "employee_df.loc[employee_df['Department'] =='Marketing']\n",
    "employee_df.iloc[0:4, [2, 3]]\n",
    "employee_df.loc[employee_df['Gender'] == 'Male', ['Salary', 'Experience']]\n",
    "\n"
   ]
  },
  {
   "cell_type": "code",
   "execution_count": null,
   "id": "ac0de266-949e-43f0-b1c0-9c82171b5072",
   "metadata": {},
   "outputs": [],
   "source": []
  },
  {
   "cell_type": "code",
   "execution_count": null,
   "id": "c3e46d53-604b-4ecf-9335-d2db1788ef61",
   "metadata": {},
   "outputs": [],
   "source": []
  },
  {
   "cell_type": "code",
   "execution_count": null,
   "id": "3a0573c3-0f49-4331-b3ef-0a5559e12a66",
   "metadata": {},
   "outputs": [],
   "source": []
  },
  {
   "cell_type": "code",
   "execution_count": null,
   "id": "df2f5b17-d6e9-4c8f-bb0c-86f5f1d262e1",
   "metadata": {},
   "outputs": [],
   "source": []
  }
 ],
 "metadata": {
  "kernelspec": {
   "display_name": "Python 3 (ipykernel)",
   "language": "python",
   "name": "python3"
  },
  "language_info": {
   "codemirror_mode": {
    "name": "ipython",
    "version": 3
   },
   "file_extension": ".py",
   "mimetype": "text/x-python",
   "name": "python",
   "nbconvert_exporter": "python",
   "pygments_lexer": "ipython3",
   "version": "3.11.7"
  }
 },
 "nbformat": 4,
 "nbformat_minor": 5
}
