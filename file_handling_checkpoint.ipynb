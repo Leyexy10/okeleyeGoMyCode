{
 "cells": [
  {
   "cell_type": "code",
   "execution_count": null,
   "id": "32138fa8-b07f-4fa8-b845-f4c1bf45fd22",
   "metadata": {},
   "outputs": [],
   "source": [
    "What You're Aiming For\n",
    "\n",
    "This dataset contains loan information, including loan ID, customer gender, location, region, total price for each loan etc.\n",
    "\n",
    "\n",
    "Instructions\n",
    "\n",
    " \n",
    "\n",
    "Begin by importing the necessary libraries, numpy.\n",
    "Use the open() function to open csv file and assign the result to a variable.\n",
    "Use the numpy array to perform some basic statistical analysis on the data, such as finding the mean, median, and standard deviation of the loan amounts.\n",
    "Note:\n",
    "\n",
    "Be sure to close the file after you have finished reading it in with the open() function.\n",
    "Use the delimiter parameter in the genfromtxt() function to specify that the values in the file are separated by commas.\n",
    "You can use the numpy functions mean(), median(), and std() to find the mean, median, and standard deviation of the loan amounts.b"
   ]
  },
  {
   "cell_type": "code",
   "execution_count": null,
   "id": "4a6bf550-bf8b-4ff1-a924-f254c4b23e88",
   "metadata": {},
   "outputs": [],
   "source": [
    "import numpy as np\n",
    "loan_amount = np.array([360,120,240,180,60,300,480,84,12,36])\n"
   ]
  },
  {
   "cell_type": "code",
   "execution_count": 6,
   "id": "4d3f8e5c-1c9f-434b-ae9a-ce073d1fcee1",
   "metadata": {},
   "outputs": [
    {
     "name": "stdout",
     "output_type": "stream",
     "text": [
      "mean: 187.2\n",
      "median: 150.0\n",
      "standard deviation: 146.98897917871258\n",
      "the file_handling.txt has been created and written to. \n",
      "\n",
      "file content:\n",
      " 187.2150.0146.98897917871258 \n",
      "\n"
     ]
    }
   ],
   "source": [
    "leye_file = \"file_handling.txt\"\n",
    "import numpy as np\n",
    "\n",
    "loan_amount = np.array([360,120,240,180,60,300,480,84,12,36])\n",
    "mean_loan_amount = np.mean(loan_amount)\n",
    "median_loan_amount = np.median(loan_amount)\n",
    "std_dev_loan_amount = np.std(loan_amount)\n",
    "\n",
    "print(\"mean:\",mean_loan_amount)\n",
    "print(\"median:\",median_loan_amount)\n",
    "print(\"standard deviation:\",std_dev_loan_amount)\n",
    "\n",
    "with open(leye_file, \"w\") as file:\n",
    "    file.write(str(mean_loan_amount))\n",
    "    file.write(str(median_loan_amount))\n",
    "    file.write(str(std_dev_loan_amount))\n",
    "print(f\"the {leye_file} has been created and written to. \\n\")\n",
    "\n",
    "with open(leye_file, \"r\")as file:\n",
    "    content = file.read()\n",
    "print(\"file content:\\n\", content, \"\\n\")\n"
   ]
  },
  {
   "cell_type": "code",
   "execution_count": null,
   "id": "22a4caff-5d6c-4beb-95aa-a3ddfb9e92c4",
   "metadata": {},
   "outputs": [],
   "source": []
  },
  {
   "cell_type": "code",
   "execution_count": null,
   "id": "07232af2-dcb3-419e-a8d9-4b38820f3579",
   "metadata": {},
   "outputs": [],
   "source": []
  },
  {
   "cell_type": "code",
   "execution_count": null,
   "id": "a3ccbc02-a8c4-45b5-ae15-eb25c2653256",
   "metadata": {},
   "outputs": [],
   "source": []
  },
  {
   "cell_type": "code",
   "execution_count": null,
   "id": "d37cb040-68cf-40cf-a717-41ff0799c928",
   "metadata": {},
   "outputs": [],
   "source": []
  }
 ],
 "metadata": {
  "kernelspec": {
   "display_name": "Python 3 (ipykernel)",
   "language": "python",
   "name": "python3"
  },
  "language_info": {
   "codemirror_mode": {
    "name": "ipython",
    "version": 3
   },
   "file_extension": ".py",
   "mimetype": "text/x-python",
   "name": "python",
   "nbconvert_exporter": "python",
   "pygments_lexer": "ipython3",
   "version": "3.11.7"
  }
 },
 "nbformat": 4,
 "nbformat_minor": 5
}
