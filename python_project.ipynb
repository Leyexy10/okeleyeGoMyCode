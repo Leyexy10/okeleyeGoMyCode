{
 "cells": [
  {
   "cell_type": "code",
   "execution_count": null,
   "id": "9eeb8c16-ce73-42db-8993-de127e60d6a9",
   "metadata": {},
   "outputs": [],
   "source": [
    "Instructions\n",
    "\n",
    "Question and Answer Handling:\n",
    "\n",
    "Display multiple-choice questions to the user.\n",
    "Capture and validate user inputs.\n",
    "Provide immediate feedback on the correctness of answers.\n",
    "Score Tracking:\n",
    "\n",
    "Keep track of the user's score throughout the quiz.\n",
    "Display the final score at the end of the quiz.\n",
    "Randomization:\n",
    "\n",
    "Randomly shuffle the order of questions for each game session to enhance replayability.\n",
    "User Interaction:\n",
    "\n",
    "Simple and intuitive user prompts to navigate through the quiz.\n",
    "Optional Enhancements:\n",
    "\n",
    "Implement a timer for each question to add a time-based challenge.\n",
    "Store and display high scores from previous sessions.\n",
    "Develop a graphical user interface (GUI) using tkinter for a more interactive experience"
   ]
  },
  {
   "cell_type": "code",
   "execution_count": null,
   "id": "3538a086-7ee6-4535-be5e-87914b8843c3",
   "metadata": {},
   "outputs": [
    {
     "name": "stdout",
     "output_type": "stream",
     "text": [
      "Which continent does Nigeria belong to?\n",
      "A. Europe\n",
      "B. Africa\n",
      "C. America\n",
      "D. Asia\n"
     ]
    }
   ],
   "source": [
    "import random as rodo\n",
    "#List of questions\n",
    "questions = [\n",
    "    {'question': 'Which continent does Nigeria belong to?', 'options': ['A. Europe', 'B. Africa', 'C. America', 'D. Asia'], 'answer': 'B'},\n",
    "    {'question': 'Where can we find a Fish?', 'options': ['A. Sea', 'B. School', 'C. Land', 'D. Air'], 'answer': 'A'},\n",
    "    {'question': 'How can we identify a thief?', 'options': ['A. Clothes', 'B. Face', 'C. Actions', 'D. Dancing Steps'], 'answer': 'C'},\n",
    "    {'question': 'What sport does Lionel Messi plays?', 'options': ['A. Basketball', 'B. Soccer', 'C. Tennis', 'D. Golf'], 'answer': 'B'},\n",
    "    {'question': 'Football team with the most champions league?', 'options': ['A. Arsenal', 'B. Chelsea', 'C. Lyon', 'D. Real Madrid'], 'answer': 'D'},\n",
    "    {'question': 'Is Wizkid a singer?', 'options': ['A. Yes', 'B. No', 'C. False', 'D. I dont know'], 'answer': 'A',}\n",
    "    ] \n",
    "#Initialize score\n",
    "score = 0\n",
    "\n",
    "#Loop through each question\n",
    "for q in questions:\n",
    "    print(q['question'])\n",
    "    for option in q['options']:\n",
    "        print(option)\n",
    "\n",
    "    #Get users answer\n",
    "    user_answer = input('Your answer:').strip().upper()\n",
    "\n",
    "    #check if the answer is correct\n",
    "    if user_answer == q['answer']:\n",
    "        print('correct!\\n')\n",
    "        score += 1\n",
    "    else:\n",
    "        print(f\"Wrong! The correct answer is {q['answer']}.\\n\")\n",
    "\n",
    "#Display the final score\n",
    "print(f'Your final score is:{score/len(questions)*100}%')    "
   ]
  },
  {
   "cell_type": "code",
   "execution_count": null,
   "id": "9546fd81-e351-467f-b2c9-cb1ff2fc295a",
   "metadata": {},
   "outputs": [],
   "source": []
  },
  {
   "cell_type": "code",
   "execution_count": null,
   "id": "eb2666c6-f400-4198-b5cf-77a87209a3b4",
   "metadata": {},
   "outputs": [],
   "source": []
  },
  {
   "cell_type": "code",
   "execution_count": null,
   "id": "6c9e8fb7-a946-4a23-a4ef-3bda493c9948",
   "metadata": {},
   "outputs": [],
   "source": []
  }
 ],
 "metadata": {
  "kernelspec": {
   "display_name": "Python 3 (ipykernel)",
   "language": "python",
   "name": "python3"
  },
  "language_info": {
   "codemirror_mode": {
    "name": "ipython",
    "version": 3
   },
   "file_extension": ".py",
   "mimetype": "text/x-python",
   "name": "python",
   "nbconvert_exporter": "python",
   "pygments_lexer": "ipython3",
   "version": "3.11.7"
  }
 },
 "nbformat": 4,
 "nbformat_minor": 5
}
