{
 "cells": [
  {
   "cell_type": "markdown",
   "id": "f38bbcb0",
   "metadata": {},
   "source": [
    "### Project Overview: Analyzing Climate Change in Africa\n",
    "\n",
    "In this project, we'll be working with the **'Climate Change in Africa' dataset**, provided by the U.S. Global Change Research Program. This dataset contains valuable historical data on daily minimum, maximum, and average temperature fluctuations across five African countries: **Egypt, Tunisia, Cameroon, Senegal,** and **Angola**, spanning from **1980 to 2023**.\n",
    "\n",
    "📊 **Dataset Description**: The data offers insights into temperature trends and patterns across the selected countries, presenting an opportunity to explore and visualize climate variations over the years.\n",
    "\n",
    "➡️ [**Dataset Link**](https://drive.google.com/file/d/1I8eV4-8p61CNNlVJzzho2xeoZ5-P7Q0F/view)\n",
    "\n",
    "---\n",
    "\n",
    "### Instructions\n",
    "\n",
    "1. **Load the Dataset**  \n",
    "   Begin by importing the dataset into a DataFrame using Python.\n",
    "\n",
    "2. **Data Cleaning**  \n",
    "   Perform necessary data cleaning to ensure accuracy and consistency in your analysis.\n",
    "\n",
    "3. **Line Chart Visualization**  \n",
    "   Create a line chart to display the average temperature fluctuations in **Tunisia** and **Cameroon**. Analyze and interpret the observed trends.\n",
    "\n",
    "4. **Time Frame Focus (1980-2005)**  \n",
    "   Zoom in on the data between **1980 and 2005**, and customize the axes labels for better clarity.\n",
    "\n",
    "5. **Histograms of Temperature Distribution**  \n",
    "   Generate histograms showing the temperature distribution in **Senegal**, comparing the periods **1980-2000** and **2000-2023** within the same figure. Summarize the key insights.\n",
    "\n",
    "6. **Country-Wise Temperature Visualization**  \n",
    "   Choose the most appropriate chart type to represent the **average temperature per country**.\n",
    "\n",
    "7. **Exploratory Analysis**  \n",
    "   Formulate your own questions about the dataset and explore answers using relevant visuals.\n"
   ]
  },
  {
   "cell_type": "code",
   "execution_count": null,
   "id": "7a7c60a1",
   "metadata": {},
   "outputs": [],
   "source": [
    "import warnings\n",
    "warnings.filterwarnings(\"ignore\")"
   ]
  },
  {
   "cell_type": "markdown",
   "id": "99d9286a",
   "metadata": {},
   "source": [
    "### Importing necessary libraries"
   ]
  },
  {
   "cell_type": "code",
   "execution_count": null,
   "id": "e5a2a5ef",
   "metadata": {},
   "outputs": [],
   "source": [
    "import pandas as pd\n",
    "import seaborn as sns\n",
    "import matplotlib.pyplot as plt\n",
    "import plotly.express as px\n",
    "import plotly.graph_objects as go"
   ]
  },
  {
   "cell_type": "markdown",
   "id": "520feef5",
   "metadata": {},
   "source": [
    "### Load the dataset"
   ]
  },
  {
   "cell_type": "code",
   "execution_count": null,
   "id": "f115e2cb",
   "metadata": {},
   "outputs": [],
   "source": [
    "# Load the dataset into a DataFrame\n",
    "df = pd.read_csv('Africa_climate_change.csv')\n",
    "\n",
    "# Display the first few rows of the dataset to confirm it has loaded correctly\n",
    "df.head()"
   ]
  },
  {
   "cell_type": "markdown",
   "id": "abcb9ac5",
   "metadata": {},
   "source": [
    "### EDA and Cleaning"
   ]
  },
  {
   "cell_type": "code",
   "execution_count": null,
   "id": "ee09a741",
   "metadata": {
    "scrolled": false
   },
   "outputs": [],
   "source": [
    "# Brief description of the dataset\n",
    "df.info()"
   ]
  },
  {
   "cell_type": "code",
   "execution_count": null,
   "id": "12ef2892",
   "metadata": {},
   "outputs": [],
   "source": [
    "# A summary statistics of all the columns in the df\n",
    "df.describe(include = 'all').T"
   ]
  },
  {
   "cell_type": "code",
   "execution_count": null,
   "id": "8734ebae",
   "metadata": {
    "scrolled": false
   },
   "outputs": [],
   "source": [
    "# Display 30 random rows\n",
    "df.sample(n = 30)"
   ]
  },
  {
   "cell_type": "code",
   "execution_count": null,
   "id": "f0f49fd1",
   "metadata": {},
   "outputs": [],
   "source": [
    "# Convert DATE column to datetime format\n",
    "df['DATE'] = pd.to_datetime(df['DATE'], format='%Y%m%d %H%M%S', errors = 'coerce')"
   ]
  },
  {
   "cell_type": "code",
   "execution_count": null,
   "id": "d2573a50",
   "metadata": {},
   "outputs": [],
   "source": [
    "df.head()"
   ]
  },
  {
   "cell_type": "markdown",
   "id": "db519154",
   "metadata": {},
   "source": [
    "### Handling the missing values"
   ]
  },
  {
   "cell_type": "code",
   "execution_count": null,
   "id": "b4dd946f",
   "metadata": {
    "scrolled": true
   },
   "outputs": [],
   "source": [
    "df['COUNTRY'].unique()"
   ]
  },
  {
   "cell_type": "code",
   "execution_count": null,
   "id": "097dfc2f",
   "metadata": {},
   "outputs": [],
   "source": [
    "# Group by country and calculate summary statistics for TAVG\n",
    "country_tavg_stats = df.groupby('COUNTRY')['TAVG'].agg(['mean', 'std'])\n",
    "\n",
    "# Display the summary statistics\n",
    "country_tavg_stats"
   ]
  },
  {
   "cell_type": "code",
   "execution_count": null,
   "id": "a022e0e3",
   "metadata": {},
   "outputs": [],
   "source": [
    "# Group by country and calculate summary statistics for TMAX\n",
    "country_tmax_stats = df.groupby('COUNTRY')['TMAX'].agg(['mean', 'std'])\n",
    "\n",
    "# Display the summary statistics\n",
    "country_tmax_stats"
   ]
  },
  {
   "cell_type": "code",
   "execution_count": null,
   "id": "a09e05f9",
   "metadata": {},
   "outputs": [],
   "source": [
    "# Group by country and calculate summary statistics for TAVG\n",
    "country_tmin_stats = df.groupby('COUNTRY')['TMIN'].agg(['mean', 'std'])\n",
    "\n",
    "# Display the summary statistics\n",
    "country_tmin_stats"
   ]
  },
  {
   "cell_type": "markdown",
   "id": "3e3d2643",
   "metadata": {},
   "source": [
    "- We can group the dataset by country and then fill in the missing values for temperature columns using the mean for that specific country, since temperatures can vary significantly by region"
   ]
  },
  {
   "cell_type": "code",
   "execution_count": null,
   "id": "55fd8a9c",
   "metadata": {
    "scrolled": true
   },
   "outputs": [],
   "source": [
    "# Fill missing temperature values with the mean of each country\n",
    "df['TAVG'] = df.groupby('COUNTRY')['TAVG'].transform(lambda x: x.fillna(x.mean()))\n",
    "df['TMAX'] = df.groupby('COUNTRY')['TMAX'].transform(lambda x: x.fillna(x.mean()))\n",
    "df['TMIN'] = df.groupby('COUNTRY')['TMIN'].transform(lambda x: x.fillna(x.mean()))\n",
    "\n",
    "# Check if the missing values are filled\n",
    "print(df.isnull().sum())"
   ]
  },
  {
   "cell_type": "markdown",
   "id": "c4961ef7",
   "metadata": {},
   "source": [
    "##### Before we replace the missing values in PRCP let's see if there're relationships with the other columns"
   ]
  },
  {
   "cell_type": "code",
   "execution_count": null,
   "id": "53e38253",
   "metadata": {
    "scrolled": false
   },
   "outputs": [],
   "source": [
    "# To check the correlation between temperature and precipitation\n",
    "\n",
    "correlation_tavg_prcp = df[['TAVG', 'PRCP']].corr().iloc[0, 1]\n",
    "print(f\"Correlation between TAVG and PRCP: {correlation_tavg_prcp}\")\n",
    "\n",
    "correlation_tmax_prcp = df[['TMAX', 'PRCP']].corr().iloc[0, 1]\n",
    "print(f\"Correlation between TMAX and PRCP: {correlation_tmax_prcp}\")\n",
    "\n",
    "correlation_tmin_prcp = df[['TMIN', 'PRCP']].corr().iloc[0, 1]\n",
    "print(f\"Correlation between TMIN and PRCP: {correlation_tmin_prcp}\")"
   ]
  },
  {
   "cell_type": "markdown",
   "id": "e3850084",
   "metadata": {},
   "source": [
    "The results show a very weak correlation let's check for countries"
   ]
  },
  {
   "cell_type": "markdown",
   "id": "9ab285e2",
   "metadata": {},
   "source": [
    "##### Relationship with countries"
   ]
  },
  {
   "cell_type": "code",
   "execution_count": null,
   "id": "f7e8d5af",
   "metadata": {
    "scrolled": true
   },
   "outputs": [],
   "source": [
    "# Group by country and calculate correlation between PRCP and TAVG\n",
    "country_prcp_tavg_corrs = df.groupby('COUNTRY').apply(lambda x: x['PRCP'].corr(x['TAVG'])).reset_index(name='PRCP_TAVG_Corr')\n",
    "\n",
    "# Group by country and calculate correlation between PRCP and TMIN\n",
    "country_prcp_tmin_corrs = df.groupby('COUNTRY').apply(lambda x: x['PRCP'].corr(x['TMIN'])).reset_index(name='PRCP_TMIN_Corr')\n",
    "\n",
    "# Group by country and calculate correlation between PRCP and TMAX\n",
    "country_prcp_tmax_corrs = df.groupby('COUNTRY').apply(lambda x: x['PRCP'].corr(x['TMAX'])).reset_index(name='PRCP_TMAX_Corr')\n",
    "\n",
    "# Merge the correlation results into a single DataFrame\n",
    "country_corrs = pd.merge(country_prcp_tavg_corrs, country_prcp_tmin_corrs, on='COUNTRY')\n",
    "country_corrs = pd.merge(country_corrs, country_prcp_tmax_corrs, on='COUNTRY')\n",
    "\n",
    "\n",
    "country_corrs"
   ]
  },
  {
   "cell_type": "markdown",
   "id": "81bb8af9",
   "metadata": {},
   "source": [
    "##### Still no correlation"
   ]
  },
  {
   "cell_type": "code",
   "execution_count": null,
   "id": "7ee6eebe",
   "metadata": {
    "scrolled": true
   },
   "outputs": [],
   "source": [
    "# Group by country and calculate summary statistics for PRCP\n",
    "country_prcp_stats = df.groupby('COUNTRY')['PRCP'].agg(['mean', 'median', 'min', 'max', 'std', 'count'])\n",
    "\n",
    "# Display the summary statistics\n",
    "country_prcp_stats"
   ]
  },
  {
   "cell_type": "markdown",
   "id": "8c3618ef",
   "metadata": {},
   "source": [
    "We see that there's a variation in the PRCCP values across the countries"
   ]
  },
  {
   "cell_type": "markdown",
   "id": "73a5603f",
   "metadata": {},
   "source": [
    "##### Replace missing values with the mean precipitation for each country"
   ]
  },
  {
   "cell_type": "code",
   "execution_count": null,
   "id": "3c15853c",
   "metadata": {
    "scrolled": false
   },
   "outputs": [],
   "source": [
    "# Calculate the mean precipitation for each country\n",
    "mean_prcp_by_country = df.groupby('COUNTRY')['PRCP'].mean()\n",
    "\n",
    "# Define a function to fill missing values with the country-specific mean\n",
    "def fill_missing_prcp(row):\n",
    "    if pd.isna(row['PRCP']):\n",
    "        return mean_prcp_by_country[row['COUNTRY']]\n",
    "    else:\n",
    "        return row['PRCP']\n",
    "\n",
    "# Apply the function to fill missing values\n",
    "df['PRCP'] = df.apply(fill_missing_prcp, axis=1)\n",
    "\n",
    "# Verify the changes\n",
    "df.head()"
   ]
  },
  {
   "cell_type": "markdown",
   "id": "4b5ede32",
   "metadata": {},
   "source": [
    "## Visualizations"
   ]
  },
  {
   "cell_type": "markdown",
   "id": "0bcd37d0",
   "metadata": {},
   "source": [
    "### Create a line chart to display the average temperature fluctuations in Tunisia and Cameroon."
   ]
  },
  {
   "cell_type": "code",
   "execution_count": null,
   "id": "3bf4ef49",
   "metadata": {
    "scrolled": true
   },
   "outputs": [],
   "source": [
    "# Extract year, month, and day\n",
    "df['Year'] = df['DATE'].dt.year\n",
    "#df['Month'] = df['DATE'].dt.month\n",
    "# Format the month names as \"Jan\", \"Feb\", etc.\n",
    "df['Month'] = df['DATE'].dt.strftime('%b')\n",
    "df['Day'] = df['DATE'].dt.day\n",
    "\n",
    "df.head()"
   ]
  },
  {
   "cell_type": "code",
   "execution_count": null,
   "id": "551a5aa4",
   "metadata": {
    "scrolled": false
   },
   "outputs": [],
   "source": [
    "# Filter the data for Tunisia and Cameroon\n",
    "df_filtered = df[df['COUNTRY'].isin(['Tunisia', 'Cameroon'])]\n",
    "\n",
    "# Group by 'YEAR' and 'COUNTRY', then calculate the average temperature\n",
    "df_yearly = df_filtered.groupby(['Year', 'COUNTRY'])['TAVG'].mean().reset_index()\n",
    "\n",
    "# Create the line chart\n",
    "fig = px.line(df_yearly, x='Year', y='TAVG', color='COUNTRY',\n",
    "              title='Average Yearly Temperature Fluctuations in Tunisia and Cameroon',\n",
    "              labels={'Year': 'Year', 'TAVG': 'Average Temperature (°C)'})\n",
    "\n",
    "fig.update_layout(legend_title_text='Country')\n",
    "fig.show()"
   ]
  },
  {
   "cell_type": "markdown",
   "id": "e62689c9",
   "metadata": {},
   "source": [
    "#### By month"
   ]
  },
  {
   "cell_type": "code",
   "execution_count": null,
   "id": "449441e9",
   "metadata": {
    "scrolled": false
   },
   "outputs": [],
   "source": [
    "# Define the correct order for months\n",
    "month_order = ['Jan', 'Feb', 'Mar', 'Apr', 'May', 'Jun', 'Jul', 'Aug', 'Sep', 'Oct', 'Nov', 'Dec']\n",
    "\n",
    "# Convert 'Month' to a categorical type with the specified order\n",
    "df_filtered['Month'] = pd.Categorical(df_filtered['Month'], categories=month_order, ordered=True)\n",
    "\n",
    "# Group by 'Month' and 'COUNTRY', then calculate the average temperature\n",
    "df_monthly = df_filtered.groupby(['Month', 'COUNTRY'])['TAVG'].mean().reset_index()\n",
    "\n",
    "# Create the line chart\n",
    "fig = px.line(df_monthly, x='Month', y='TAVG', color='COUNTRY',\n",
    "              title='Average Monthly Temperature Fluctuations in Tunisia and Cameroon',\n",
    "              labels={'Month': 'Month', 'TAVG': 'Average Temperature (°C)'})\n",
    "\n",
    "fig.update_layout(legend_title_text='Country')\n",
    "fig.show()"
   ]
  },
  {
   "cell_type": "markdown",
   "id": "8f1628da",
   "metadata": {},
   "source": [
    "### Zoom in on the data between 1980 and 2005, and customize the axes labels for better clarity."
   ]
  },
  {
   "cell_type": "code",
   "execution_count": null,
   "id": "9500b9ac",
   "metadata": {},
   "outputs": [],
   "source": [
    "# Filter the data between 1980 and 2005\n",
    "df_filtered_2 = df_filtered[(df_filtered['Year'] >= 1980) & (df_filtered['Year'] <= 2005)]\n",
    "\n",
    "# Group by 'Year' and 'COUNTRY', then calculate the average temperature\n",
    "df_yearly = df_filtered_2.groupby(['Year', 'COUNTRY'])['TAVG'].mean().reset_index()\n",
    "\n",
    "# Create the line chart\n",
    "fig = px.line(df_yearly, x='Year', y='TAVG', color='COUNTRY',\n",
    "              title='Average Yearly Temperature Fluctuations in Tunisia and Cameroon (1980-2005)',\n",
    "              labels={'Year': 'Year', 'TAVG': 'Average Temperature (°C)'})\n",
    "\n",
    "# Customize x-axis and y-axis labels\n",
    "fig.update_layout(\n",
    "    xaxis_title='Year',\n",
    "    yaxis_title='Average Temperature (°C)',\n",
    "    xaxis=dict(\n",
    "        tickmode='array'\n",
    "    )\n",
    ")"
   ]
  },
  {
   "cell_type": "markdown",
   "id": "9246c9f4",
   "metadata": {},
   "source": [
    "### Temperature Distribution in Senegal (1980-2000 vs 2000-2023)"
   ]
  },
  {
   "cell_type": "code",
   "execution_count": null,
   "id": "54220a57",
   "metadata": {},
   "outputs": [],
   "source": [
    "# Filter the data for Senegal\n",
    "senegal_df = df[df['COUNTRY'] == 'Senegal']\n",
    "\n",
    "# Extract the year from 'DATE'\n",
    "senegal_df['Year'] = senegal_df['DATE'].dt.year\n",
    "\n",
    "# Split the data into two periods: 1980-2000 and 2000-2023\n",
    "senegal_1980_2000 = senegal_df[(senegal_df['Year'] >= 1980) & (senegal_df['Year'] <= 2000)]\n",
    "senegal_2000_2023 = senegal_df[(senegal_df['Year'] > 2000) & (senegal_df['Year'] <= 2023)]\n",
    "\n",
    "\n",
    "# Create histograms\n",
    "hist_1980_2000 = go.Histogram(\n",
    "    x=senegal_1980_2000['TAVG'],\n",
    "    opacity=0.6,\n",
    "    name='1980-2000',\n",
    "    marker=dict(color='blue')\n",
    ")\n",
    "\n",
    "hist_2000_2023 = go.Histogram(\n",
    "    x=senegal_2000_2023['TAVG'],\n",
    "    opacity=0.6,\n",
    "    name='2000-2023',\n",
    "    marker=dict(color='red')\n",
    ")\n",
    "\n",
    "# Combine histograms in one figure\n",
    "fig = go.Figure(data=[hist_1980_2000, hist_2000_2023])\n",
    "\n",
    "# Update layout for better visibility\n",
    "fig.update_layout(\n",
    "    barmode='overlay',\n",
    "    title='Temperature Distribution in Senegal (1980-2000 vs 2000-2023)',\n",
    "    xaxis_title='Average Temperature (°C)',\n",
    "    yaxis_title='Frequency',\n",
    "    legend_title_text='Period',\n",
    "    legend=dict(\n",
    "        x=0.05, y=0.95,\n",
    "        bgcolor='rgba(255, 255, 255, 0.5)'\n",
    "    )\n",
    ")\n",
    "\n",
    "# Show the figure\n",
    "fig.show()"
   ]
  },
  {
   "cell_type": "markdown",
   "id": "4ec914fe",
   "metadata": {},
   "source": [
    "From the above Line chart we can see the Tunisia has a lower average Temperature compared to Cameroon\n",
    "- The peak for Cameroon was in 1991\n",
    "- The peak for Tunisia was in 1999"
   ]
  },
  {
   "cell_type": "markdown",
   "id": "00a47c92",
   "metadata": {},
   "source": [
    "### Country-Wise Temperature Visualization"
   ]
  },
  {
   "cell_type": "code",
   "execution_count": null,
   "id": "3e3ddf0a",
   "metadata": {},
   "outputs": [],
   "source": [
    "# Group by country and calculate the average temperature\n",
    "country_avg_temp = df.groupby('COUNTRY')['TAVG'].mean().reset_index()\n",
    "\n",
    "# Create a bar chart\n",
    "fig = px.bar(country_avg_temp, x='COUNTRY', y='TAVG', \n",
    "             title='Average Temperature per Country',\n",
    "             labels={'TAVG': 'Average Temperature (°C)', 'COUNTRY': 'Country'})\n",
    "\n",
    "# Customize the layout for better clarity\n",
    "fig.update_layout(xaxis_title='Country', yaxis_title='Average Temperature (°C)', \n",
    "                  xaxis_tickangle=-45, \n",
    "                  title_font_size=20)\n",
    "\n",
    "# Show the figure\n",
    "fig.show()"
   ]
  },
  {
   "cell_type": "code",
   "execution_count": null,
   "id": "18e5a523",
   "metadata": {},
   "outputs": [],
   "source": []
  }
 ],
 "metadata": {
  "kernelspec": {
   "display_name": "Python 3 (ipykernel)",
   "language": "python",
   "name": "python3"
  },
  "language_info": {
   "codemirror_mode": {
    "name": "ipython",
    "version": 3
   },
   "file_extension": ".py",
   "mimetype": "text/x-python",
   "name": "python",
   "nbconvert_exporter": "python",
   "pygments_lexer": "ipython3",
   "version": "3.10.9"
  }
 },
 "nbformat": 4,
 "nbformat_minor": 5
}
