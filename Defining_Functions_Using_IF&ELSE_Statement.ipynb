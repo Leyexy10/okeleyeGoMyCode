{
 "cells": [
  {
   "cell_type": "code",
   "execution_count": 7,
   "id": "1675efc8-f823-4042-bf49-91d1dca0629d",
   "metadata": {},
   "outputs": [
    {
     "name": "stdin",
     "output_type": "stream",
     "text": [
      "type in your account number:  345678912\n",
      "input your account balance:  45000\n",
      "type in your full name:  oke oke\n",
      "how much would you like to deposit?  5000\n",
      "how much would you like to withdraw?  35000\n"
     ]
    },
    {
     "ename": "TypeError",
     "evalue": "account() takes no arguments",
     "output_type": "error",
     "traceback": [
      "\u001b[1;31m---------------------------------------------------------------------------\u001b[0m",
      "\u001b[1;31mTypeError\u001b[0m                                 Traceback (most recent call last)",
      "Cell \u001b[1;32mIn[7], line 30\u001b[0m\n\u001b[0;32m     27\u001b[0m deposit_amount \u001b[38;5;241m=\u001b[39m \u001b[38;5;28mfloat\u001b[39m(\u001b[38;5;28minput\u001b[39m(\u001b[38;5;124m\"\u001b[39m\u001b[38;5;124mhow much would you like to deposit? \u001b[39m\u001b[38;5;124m\"\u001b[39m))\n\u001b[0;32m     28\u001b[0m withdrawal_amount \u001b[38;5;241m=\u001b[39m \u001b[38;5;28mfloat\u001b[39m(\u001b[38;5;28minput\u001b[39m(\u001b[38;5;124m\"\u001b[39m\u001b[38;5;124mhow much would you like to withdraw? \u001b[39m\u001b[38;5;124m\"\u001b[39m ))\n\u001b[1;32m---> 30\u001b[0m my_account \u001b[38;5;241m=\u001b[39m account(account_number \u001b[38;5;241m=\u001b[39m acc_num, account_balance \u001b[38;5;241m=\u001b[39m acc_bal, account_holder \u001b[38;5;241m=\u001b[39m acc_holder)\n\u001b[0;32m     31\u001b[0m my_account\u001b[38;5;241m.\u001b[39mdeposit(deposit_number)\n\u001b[0;32m     32\u001b[0m my_account\u001b[38;5;241m.\u001b[39mwithdraw(withdrwal_amount)\n",
      "\u001b[1;31mTypeError\u001b[0m: account() takes no arguments"
     ]
    }
   ],
   "source": [
    "class account:\n",
    "    def _init_(self,account_number,account_balance,account_holder):\n",
    "        self.account_number = account_number\n",
    "        self.account_balance = account_balance\n",
    "        self.account_holder =  account_holder\n",
    "    \n",
    "    def deposit(amount,balance):\n",
    "        self.amount = amount\n",
    "        self.account_balance += amount\n",
    "        print(\"amount_deposited:\", amount)\n",
    "   \n",
    "    def withdraw(amount):\n",
    "        self.amount = amount\n",
    "        if self.account_balance >= amount:\n",
    "            self.account_balance -= amount\n",
    "            print(\"you withdrew:\", amount)\n",
    "        else:\n",
    "            print(\"insufficient balance\")\n",
    "    \n",
    "    def check_balance(self):\n",
    "        return self.check_balance \n",
    "\n",
    "acc_num = str(input(\"type in your account number: \"))\n",
    "acc_bal = float(input(\"input your account balance: \"))\n",
    "acc_holder = str(input(\"type in your full name: \"))\n",
    "\n",
    "deposit_amount = float(input(\"how much would you like to deposit? \"))\n",
    "withdrawal_amount = float(input(\"how much would you like to withdraw? \" ))\n",
    "\n",
    "my_account = account(account_number = acc_num, account_balance = acc_bal, account_holder = acc_holder)\n",
    "my_account.deposit(deposit_number)\n",
    "my_account.withdraw(withdrwal_amount)\n",
    "\n",
    "print(f\"current balance: ${my_account.check_balance()}\")"
   ]
  }
 ],
 "metadata": {
  "kernelspec": {
   "display_name": "Python 3 (ipykernel)",
   "language": "python",
   "name": "python3"
  },
  "language_info": {
   "codemirror_mode": {
    "name": "ipython",
    "version": 3
   },
   "file_extension": ".py",
   "mimetype": "text/x-python",
   "name": "python",
   "nbconvert_exporter": "python",
   "pygments_lexer": "ipython3",
   "version": "3.11.7"
  }
 },
 "nbformat": 4,
 "nbformat_minor": 5
}
